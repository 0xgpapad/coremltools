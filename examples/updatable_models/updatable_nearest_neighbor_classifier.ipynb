{
 "cells": [
  {
   "cell_type": "markdown",
   "metadata": {},
   "source": [
    "# Updatable Nearest Neighbor Classifier\n"
   ]
  },
  {
   "cell_type": "markdown",
   "metadata": {},
   "source": [
    "This notebook demonstrates the process of creating an updatable empty k-nearest neighbor model using coremltools."
   ]
  },
  {
   "cell_type": "code",
   "execution_count": 3,
   "metadata": {},
   "outputs": [],
   "source": [
    "number_of_dimensions = 128\n",
    "\n",
    "from coremltools.models.nearest_neighbors import KNearestNeighborsClassifierBuilder\n",
    "builder = KNearestNeighborsClassifierBuilder(input_name='input',\n",
    "                                             output_name='output',\n",
    "                                             number_of_dimensions=number_of_dimensions,\n",
    "                                             default_class_label='defaultLabel',\n",
    "                                             k=3,\n",
    "                                             weighting_scheme='inverse_distance',\n",
    "                                             index_type='linear')\n",
    "\n",
    "builder.author = 'Core ML Tools Example'\n",
    "builder.license = 'MIT'\n",
    "builder.description = 'Classifies {} dimension vector based on 3 nearest neighbors'.format(number_of_dimensions)\n",
    "\n",
    "builder.spec.description.input[0].shortDescription = 'Input vector to classify'\n",
    "builder.spec.description.output[0].shortDescription = 'Predicted label. Defaults to \\'defaultLabel\\''\n",
    "builder.spec.description.output[1].shortDescription = 'Probabilities / score for each possible label.'\n",
    "\n",
    "builder.spec.description.trainingInput[0].shortDescription = 'Example input vector'\n",
    "builder.spec.description.trainingInput[1].shortDescription = 'Associated true label of each example vector'"
   ]
  },
  {
   "cell_type": "code",
   "execution_count": 2,
   "metadata": {},
   "outputs": [
    {
     "data": {
      "text/plain": [
       "True"
      ]
     },
     "execution_count": 2,
     "metadata": {},
     "output_type": "execute_result"
    }
   ],
   "source": [
    "# By default an empty knn model is updatable\n",
    "builder.is_updatable"
   ]
  },
  {
   "cell_type": "code",
   "execution_count": 3,
   "metadata": {},
   "outputs": [
    {
     "data": {
      "text/plain": [
       "128"
      ]
     },
     "execution_count": 3,
     "metadata": {},
     "output_type": "execute_result"
    }
   ],
   "source": [
    "# Let's confirm the number of dimension is set correctly\n",
    "builder.number_of_dimensions"
   ]
  },
  {
   "cell_type": "code",
   "execution_count": 4,
   "metadata": {},
   "outputs": [
    {
     "data": {
      "text/plain": [
       "3"
      ]
     },
     "execution_count": 4,
     "metadata": {},
     "output_type": "execute_result"
    }
   ],
   "source": [
    "# Let's check what the value of 'k' is\n",
    "builder.k"
   ]
  },
  {
   "cell_type": "code",
   "execution_count": 5,
   "metadata": {},
   "outputs": [
    {
     "data": {
      "text/plain": [
       "'linear'"
      ]
     },
     "execution_count": 5,
     "metadata": {},
     "output_type": "execute_result"
    }
   ],
   "source": [
    "# Let's see what the index type is\n",
    "builder.index_type"
   ]
  },
  {
   "cell_type": "code",
   "execution_count": 6,
   "metadata": {},
   "outputs": [
    {
     "data": {
      "text/plain": [
       "'kd_tree'"
      ]
     },
     "execution_count": 6,
     "metadata": {},
     "output_type": "execute_result"
    }
   ],
   "source": [
    "# Let's set the index to kd_tree with leaf size of 30\n",
    "builder.set_index_type('kd_tree', 30)\n",
    "builder.index_type"
   ]
  },
  {
   "cell_type": "code",
   "execution_count": 7,
   "metadata": {},
   "outputs": [],
   "source": [
    "mlmodel_updatable_path = './UpdatableKNN.mlmodel'\n",
    "\n",
    "# Save the updated spec\n",
    "from coremltools.models import MLModel\n",
    "mlmodel_updatable = MLModel(builder.spec)\n",
    "mlmodel_updatable.save(mlmodel_updatable_path)"
   ]
  }
 ],
 "metadata": {
  "kernelspec": {
   "display_name": "Python 3",
   "language": "python",
   "name": "python3"
  },
  "language_info": {
   "codemirror_mode": {
    "name": "ipython",
    "version": 3
   },
   "file_extension": ".py",
   "mimetype": "text/x-python",
   "name": "python",
   "nbconvert_exporter": "python",
   "pygments_lexer": "ipython3",
   "version": "3.6.7"
  }
 },
 "nbformat": 4,
 "nbformat_minor": 2
}
